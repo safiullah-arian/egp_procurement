{
 "cells": [
  {
   "cell_type": "code",
   "execution_count": 1,
   "id": "96996e3a-bd3f-4367-894e-a6b5c55e17b9",
   "metadata": {},
   "outputs": [],
   "source": [
    "import numpy\n",
    "import pandas\n",
    "import matplotlib\n"
   ]
  },
  {
   "cell_type": "code",
   "execution_count": 1,
   "id": "f7f44297-969b-4263-be62-8f6c11883589",
   "metadata": {},
   "outputs": [
    {
     "ename": "SyntaxError",
     "evalue": "invalid syntax (410893401.py, line 1)",
     "output_type": "error",
     "traceback": [
      "\u001b[1;36m  Cell \u001b[1;32mIn[1], line 1\u001b[1;36m\u001b[0m\n\u001b[1;33m    install numpy pandas matplotlib\u001b[0m\n\u001b[1;37m            ^\u001b[0m\n\u001b[1;31mSyntaxError\u001b[0m\u001b[1;31m:\u001b[0m invalid syntax\n"
     ]
    }
   ],
   "source": [
    "im"
   ]
  },
  {
   "cell_type": "code",
   "execution_count": 3,
   "id": "25e6ed4f-43a4-40fa-8f5e-358456eaa016",
   "metadata": {},
   "outputs": [
    {
     "name": "stdout",
     "output_type": "stream",
     "text": [
      "this is jupyter first try\n"
     ]
    }
   ],
   "source": [
    "print(\"this is jupyter first try\")"
   ]
  },
  {
   "cell_type": "code",
   "execution_count": 1,
   "id": "55de47a4-7987-48e7-a384-222f3301e35a",
   "metadata": {},
   "outputs": [],
   "source": [
    "def train_gan(batch_size=32, num_epochs=100, device='cpu'):\n",
    "    # Set device\n",
    "    device = torch.device(device)\n",
    "\n",
    "    # Load MNIST dataset\n",
    "    transform = transforms.Compose([\n",
    "        transforms.ToTensor(),\n",
    "        transforms.Normalize((0.5,), (0.5,))\n",
    "    ])\n",
    "    train_dataset = datasets.MNIST(root='./data', train=True, transform=transform, download=True)\n",
    "    train_loader = torch.utils.data.DataLoader(dataset=train_dataset, batch_size=batch_size, shuffle=True)\n",
    "\n",
    "    # Initialize Generator and Discriminator\n",
    "    generator = Generator().to(device)\n",
    "    discriminator = Discriminator().to(device)\n",
    "\n",
    "    # Define loss function and optimizer\n",
    "    criterion = nn.BCELoss()\n",
    "    optimizer_G = optim.Adam(generator.parameters(), lr=0.0002, betas=(0.5, 0.999))\n",
    "    optimizer_D = optim.Adam(discriminator.parameters(), lr=0.0002, betas=(0.5, 0.999))\n",
    "\n",
    "    # Training loop\n",
    "    for epoch in range(num_epochs):\n",
    "        for i, (real_images, _) in enumerate(train_loader):\n",
    "            # Train Discriminator\n",
    "            optimizer_D.zero_grad()\n",
    "\n",
    "            # Generate fake images\n",
    "            z = torch.randn(batch_size, latent_dim, 1, 1).to(device)\n",
    "            fake_images = generator(z)\n",
    "\n",
    "            # Real images\n",
    "            real_images = real_images.to(device)\n",
    "            real_labels = torch.ones(batch_size, 1).to(device)\n",
    "\n",
    "            # Fake images\n",
    "            fake_labels = torch.zeros(batch_size, 1).to(device)\n",
    "\n",
    "            # Discriminator loss for real images\n",
    "            d_real_loss = criterion(discriminator(real_images), real_labels)\n",
    "            # Discriminator loss for fake images\n",
    "            d_fake_loss = criterion(discriminator(fake_images.detach()), fake_labels)\n",
    "\n",
    "            # Total Discriminator loss\n",
    "            d_loss = d_real_loss + d_fake_loss\n",
    "            d_loss.backward()\n",
    "            optimizer_D.step()\n",
    "\n",
    "            # Train Generator\n",
    "            optimizer_G.zero_grad()\n",
    "            z = torch.randn(batch_size, latent_dim, 1, 1).to(device)\n",
    "            fake_images = generator(z)\n",
    "            g_loss = criterion(discriminator(fake_images), real_labels)\n",
    "            g_loss.backward()\n",
    "            optimizer_G.step()\n",
    "\n",
    "        # Print progress\n",
    "        print(f'Epoch [{epoch + 1}/{num_epochs}], Discriminator Loss: {d_loss.item():.4f}, Generator Loss: {g_loss.item():.4f}')\n"
   ]
  },
  {
   "cell_type": "code",
   "execution_count": null,
   "id": "1294e624-a95e-42d2-95ea-641eeb59d32b",
   "metadata": {},
   "outputs": [],
   "source": []
  }
 ],
 "metadata": {
  "kernelspec": {
   "display_name": "Python 3 (ipykernel)",
   "language": "python",
   "name": "python3"
  },
  "language_info": {
   "codemirror_mode": {
    "name": "ipython",
    "version": 3
   },
   "file_extension": ".py",
   "mimetype": "text/x-python",
   "name": "python",
   "nbconvert_exporter": "python",
   "pygments_lexer": "ipython3",
   "version": "3.8.18"
  }
 },
 "nbformat": 4,
 "nbformat_minor": 5
}
