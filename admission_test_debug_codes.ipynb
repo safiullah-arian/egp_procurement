{
 "cells": [
  {
   "cell_type": "code",
   "execution_count": 1,
   "id": "329f6794-e5d0-43f7-bc8a-eaff29b3cc13",
   "metadata": {},
   "outputs": [],
   "source": [
    "import numpy"
   ]
  },
  {
   "cell_type": "code",
   "execution_count": 2,
   "id": "f94dd54b-f34e-4058-92c5-69be174c4b3b",
   "metadata": {},
   "outputs": [
    {
     "ename": "TypeError",
     "evalue": "'set' object is not subscriptable",
     "output_type": "error",
     "traceback": [
      "\u001b[1;31m---------------------------------------------------------------------------\u001b[0m",
      "\u001b[1;31mTypeError\u001b[0m                                 Traceback (most recent call last)",
      "Cell \u001b[1;32mIn[2], line 5\u001b[0m\n\u001b[0;32m      2\u001b[0m     \u001b[38;5;28;01mreturn\u001b[39;00m fruits[fruit_id]\n\u001b[0;32m      4\u001b[0m \u001b[38;5;66;03m# Example usage\u001b[39;00m\n\u001b[1;32m----> 5\u001b[0m name1 \u001b[38;5;241m=\u001b[39m \u001b[43mid_to_fruit\u001b[49m\u001b[43m(\u001b[49m\u001b[38;5;241;43m1\u001b[39;49m\u001b[43m,\u001b[49m\u001b[43m \u001b[49m\u001b[43m{\u001b[49m\u001b[38;5;124;43m\"\u001b[39;49m\u001b[38;5;124;43mapple\u001b[39;49m\u001b[38;5;124;43m\"\u001b[39;49m\u001b[43m,\u001b[49m\u001b[43m \u001b[49m\u001b[38;5;124;43m\"\u001b[39;49m\u001b[38;5;124;43morange\u001b[39;49m\u001b[38;5;124;43m\"\u001b[39;49m\u001b[43m,\u001b[49m\u001b[43m \u001b[49m\u001b[38;5;124;43m\"\u001b[39;49m\u001b[38;5;124;43mmelon\u001b[39;49m\u001b[38;5;124;43m\"\u001b[39;49m\u001b[43m,\u001b[49m\u001b[43m \u001b[49m\u001b[38;5;124;43m\"\u001b[39;49m\u001b[38;5;124;43mkiwi\u001b[39;49m\u001b[38;5;124;43m\"\u001b[39;49m\u001b[43m,\u001b[49m\u001b[43m \u001b[49m\u001b[38;5;124;43m\"\u001b[39;49m\u001b[38;5;124;43mstrawberry\u001b[39;49m\u001b[38;5;124;43m\"\u001b[39;49m\u001b[43m}\u001b[49m\u001b[43m)\u001b[49m\n\u001b[0;32m      6\u001b[0m name3 \u001b[38;5;241m=\u001b[39m id_to_fruit(\u001b[38;5;241m3\u001b[39m, {\u001b[38;5;124m\"\u001b[39m\u001b[38;5;124mapple\u001b[39m\u001b[38;5;124m\"\u001b[39m, \u001b[38;5;124m\"\u001b[39m\u001b[38;5;124morange\u001b[39m\u001b[38;5;124m\"\u001b[39m, \u001b[38;5;124m\"\u001b[39m\u001b[38;5;124mmelon\u001b[39m\u001b[38;5;124m\"\u001b[39m, \u001b[38;5;124m\"\u001b[39m\u001b[38;5;124mkiwi\u001b[39m\u001b[38;5;124m\"\u001b[39m, \u001b[38;5;124m\"\u001b[39m\u001b[38;5;124mstrawberry\u001b[39m\u001b[38;5;124m\"\u001b[39m})\n\u001b[0;32m      7\u001b[0m name4 \u001b[38;5;241m=\u001b[39m id_to_fruit(\u001b[38;5;241m4\u001b[39m, {\u001b[38;5;124m\"\u001b[39m\u001b[38;5;124mapple\u001b[39m\u001b[38;5;124m\"\u001b[39m, \u001b[38;5;124m\"\u001b[39m\u001b[38;5;124morange\u001b[39m\u001b[38;5;124m\"\u001b[39m, \u001b[38;5;124m\"\u001b[39m\u001b[38;5;124mmelon\u001b[39m\u001b[38;5;124m\"\u001b[39m, \u001b[38;5;124m\"\u001b[39m\u001b[38;5;124mkiwi\u001b[39m\u001b[38;5;124m\"\u001b[39m, \u001b[38;5;124m\"\u001b[39m\u001b[38;5;124mstrawberry\u001b[39m\u001b[38;5;124m\"\u001b[39m})\n",
      "Cell \u001b[1;32mIn[2], line 2\u001b[0m, in \u001b[0;36mid_to_fruit\u001b[1;34m(fruit_id, fruits)\u001b[0m\n\u001b[0;32m      1\u001b[0m \u001b[38;5;28;01mdef\u001b[39;00m \u001b[38;5;21mid_to_fruit\u001b[39m(fruit_id, fruits):\n\u001b[1;32m----> 2\u001b[0m     \u001b[38;5;28;01mreturn\u001b[39;00m \u001b[43mfruits\u001b[49m\u001b[43m[\u001b[49m\u001b[43mfruit_id\u001b[49m\u001b[43m]\u001b[49m\n",
      "\u001b[1;31mTypeError\u001b[0m: 'set' object is not subscriptable"
     ]
    }
   ],
   "source": [
    "def id_to_fruit(fruit_id, fruits):\n",
    "    return fruits[fruit_id]\n",
    "\n",
    "# Example usage\n",
    "name1 = id_to_fruit(1, {\"apple\", \"orange\", \"melon\", \"kiwi\", \"strawberry\"})\n",
    "name3 = id_to_fruit(3, {\"apple\", \"orange\", \"melon\", \"kiwi\", \"strawberry\"})\n",
    "name4 = id_to_fruit(4, {\"apple\", \"orange\", \"melon\", \"kiwi\", \"strawberry\"})\n",
    "\n",
    "print(name1)  # Output may not be 'orange'\n",
    "print(name3)  # Output may not be 'kiwi'\n",
    "print(name4)  # Output may not be 'strawberry'"
   ]
  },
  {
   "cell_type": "code",
   "execution_count": null,
   "id": "cb7619a5-0cde-4611-816e-aa2669fb2d1f",
   "metadata": {},
   "outputs": [],
   "source": [
    "The returned result is incorrect because the original implementation attempts to access elements by index directly from a set. \n",
    "However, sets in Python are unordered collections, meaning they don't maintain the order of elements. Therefore, \n",
    "there's no guarantee that the elements will be in a particular order when iterating over them."
   ]
  },
  {
   "cell_type": "code",
   "execution_count": null,
   "id": "23fa9ef4-2a53-45e0-960b-a037eb26ccd3",
   "metadata": {},
   "outputs": [],
   "source": [
    "To fix this issue, we need to use a data structure that maintains the order of elements or a method that doesn't\n",
    "rely on indexing. One common approach is to convert the set to a list and then access elements by index from the list."
   ]
  },
  {
   "cell_type": "code",
   "execution_count": 3,
   "id": "f42da52d-0993-412b-bc8c-e7903a6800cb",
   "metadata": {},
   "outputs": [
    {
     "name": "stdout",
     "output_type": "stream",
     "text": [
      "kiwi\n",
      "orange\n",
      "strawberry\n"
     ]
    }
   ],
   "source": [
    "def id_to_fruit(fruit_id, fruits):\n",
    "    fruits_list = sorted(fruits)\n",
    "    \n",
    "    if 0 <= fruit_id < len(fruits_list):\n",
    "    \n",
    "        return fruits_list[fruit_id]\n",
    "    else:\n",
    "        return None\n",
    "\n",
    "name1 = id_to_fruit(1, {\"apple\", \"orange\", \"melon\", \"kiwi\", \"strawberry\"})\n",
    "name3 = id_to_fruit(3, {\"apple\", \"orange\", \"melon\", \"kiwi\", \"strawberry\"})\n",
    "name4 = id_to_fruit(4, {\"apple\", \"orange\", \"melon\", \"kiwi\", \"strawberry\"})\n",
    "\n",
    "print(name1) \n",
    "print(name3)  \n",
    "print(name4)  "
   ]
  },
  {
   "cell_type": "code",
   "execution_count": 4,
   "id": "d8f356df-52a8-4e82-95f4-8d686f1de0e3",
   "metadata": {},
   "outputs": [],
   "source": [
    "import numpy as np"
   ]
  },
  {
   "cell_type": "code",
   "execution_count": 5,
   "id": "99eb52fb-e319-4140-925d-bd3b35ccff69",
   "metadata": {},
   "outputs": [
    {
     "name": "stdout",
     "output_type": "stream",
     "text": [
      "[[ 5 10  6 15  0]\n",
      " [ 3 11  6 13  0]\n",
      " [ 3  5  6 13  1]\n",
      " [ 4  4  6 13  1]\n",
      " [ 5  6 16 13  1]]\n"
     ]
    }
   ],
   "source": [
    "def swap(coords):\n",
    "    # Swap x and y coordinates\n",
    "    coords[:, [0, 1]] = coords[:, [1, 0]]\n",
    "    coords[:, [2, 3]] = coords[:, [3, 2]]\n",
    "    return coords\n",
    "\n",
    "# Example usage\n",
    "coords = np.array([[10, 5, 15, 6, 0],\n",
    "                   [11, 3, 13, 6, 0],\n",
    "                   [5, 3, 13, 6, 1],\n",
    "                   [4, 4, 13, 6, 1],\n",
    "                   [6, 5, 13, 16, 1]])\n",
    "swapped_coords = swap(coords)\n",
    "print(swapped_coords)"
   ]
  },
  {
   "cell_type": "code",
   "execution_count": null,
   "id": "d029cd53-1772-4606-94a7-32e051328072",
   "metadata": {},
   "outputs": [],
   "source": [
    "the obvious error in the original implementation is that it directly modifies the input array coords without making a copy of it.\n",
    "This means that the swapping operation directly affects the original array, \n",
    "which may not be desired behavior, especially if the original array needs to be preserved."
   ]
  },
  {
   "cell_type": "code",
   "execution_count": null,
   "id": "b6a166ee-46cf-4ce3-8bb8-c92565568e6d",
   "metadata": {},
   "outputs": [],
   "source": [
    "To fix the issue even after addressing the obvious error, we need to ensure that the swapping operation is done correctly. \n",
    "In the original implementation, the swapping operation is incorrect\n",
    "because it swaps the x and y coordinates without considering the class id. "
   ]
  },
  {
   "cell_type": "code",
   "execution_count": 7,
   "id": "1acc7e50-b754-46d7-8b9e-18acafad3e25",
   "metadata": {},
   "outputs": [
    {
     "name": "stdout",
     "output_type": "stream",
     "text": [
      "[[ 5 10  6 15  0]\n",
      " [ 3 11  6 13  0]\n",
      " [ 3  5  6 13  1]\n",
      " [ 4  4  6 13  1]\n",
      " [ 5  6 16 13  1]]\n"
     ]
    }
   ],
   "source": [
    "\n",
    "\n",
    "def swap(coords):\n",
    "   \n",
    "    swapped_coords = coords.copy()\n",
    "    \n",
    "   \n",
    "    swapped_coords[:, [0, 1]] = swapped_coords[:, [1, 0]]\n",
    "    swapped_coords[:, [2, 3]] = swapped_coords[:, [3, 2]]\n",
    "    \n",
    "    return swapped_coords\n",
    "\n",
    "coords = np.array([[10, 5, 15, 6, 0],\n",
    "                   [11, 3, 13, 6, 0],\n",
    "                   [5, 3, 13, 6, 1],\n",
    "                   [4, 4, 13, 6, 1],\n",
    "                   [6, 5, 13, 16, 1]])\n",
    "swapped_coords = swap(coords)\n",
    "print(swapped_coords)\n"
   ]
  },
  {
   "cell_type": "code",
   "execution_count": 8,
   "id": "f24ec680-a89f-4bf2-9925-01baf1dbb592",
   "metadata": {},
   "outputs": [],
   "source": [
    "import csv\n",
    "import matplotlib.pyplot as plt"
   ]
  },
  {
   "cell_type": "code",
   "execution_count": 9,
   "id": "1adbcc23-8429-4db2-9c76-904437c90a30",
   "metadata": {},
   "outputs": [
    {
     "name": "stdout",
     "output_type": "stream",
     "text": [
      "CSV file 'data_file.csv' created successfully.\n"
     ]
    }
   ],
   "source": [
    "# Sample data for precision and recall\n",
    "data = [\n",
    "    [0.013, 0.951],\n",
    "    [0.376, 0.851],\n",
    "    [0.441, 0.839],\n",
    "    [0.570, 0.758],\n",
    "    [0.635, 0.674],\n",
    "    [0.721, 0.604],\n",
    "    [0.837, 0.531],\n",
    "    [0.860, 0.453],\n",
    "    [0.962, 0.348],\n",
    "    [0.982, 0.273],\n",
    "    [1.0, 0.0]\n",
    "]\n",
    "\n",
    "csv_file_path = \"data_file.csv\"\n",
    "with open(csv_file_path, 'w', newline='') as file:\n",
    "    writer = csv.writer(file)\n",
    "    writer.writerow([\"precision\", \"recall\"])  # Write header row\n",
    "    writer.writerows(data)  # Write data rows\n",
    "\n",
    "print(f\"CSV file '{csv_file_path}' created successfully.\")"
   ]
  },
  {
   "cell_type": "code",
   "execution_count": 10,
   "id": "652197ac-65d8-4585-8a19-7b64272bed67",
   "metadata": {},
   "outputs": [
    {
     "data": {
      "image/png": "[encoded data removed]",
      "text/plain": [
       "<Figure size 640x480 with 1 Axes>"
      ]
     },
     "metadata": {},
     "output_type": "display_data"
    }
   ],
   "source": [
    "def plot_data(csv_file_path):\n",
    "    # Read data from the CSV file\n",
    "    with open(csv_file_path, 'r') as file:\n",
    "        reader = csv.reader(file)\n",
    "        next(reader)  \n",
    "        data = list(reader)\n",
    "    \n",
    " \n",
    "    precision = [float(row[0]) for row in data]\n",
    "    recall = [float(row[1]) for row in data]\n",
    "    \n",
    " \n",
    "    plt.plot(recall, precision)\n",
    "    plt.xlabel('Recall')\n",
    "    plt.ylabel('Precision')\n",
    "    plt.title('Precision-Recall Curve')\n",
    "    plt.grid(True)\n",
    "    plt.show()\n",
    "\n",
    "plot_data('data_file.csv')\n"
   ]
  },
  {
   "cell_type": "code",
   "execution_count": 11,
   "id": "1f15553c-e870-4c78-a374-8a02f409125c",
   "metadata": {},
   "outputs": [
    {
     "name": "stdout",
     "output_type": "stream",
     "text": [
      "Extracted data from CSV:\n",
      "Precision: 0.013, Recall: 0.951\n",
      "Precision: 0.376, Recall: 0.851\n",
      "Precision: 0.441, Recall: 0.839\n",
      "Precision: 0.57, Recall: 0.758\n",
      "Precision: 0.635, Recall: 0.674\n",
      "Precision: 0.721, Recall: 0.604\n",
      "Precision: 0.837, Recall: 0.531\n",
      "Precision: 0.86, Recall: 0.453\n",
      "Precision: 0.962, Recall: 0.348\n",
      "Precision: 0.982, Recall: 0.273\n",
      "Precision: 1.0, Recall: 0.0\n",
      "\n",
      "Precision values: [0.013, 0.376, 0.441, 0.57, 0.635, 0.721, 0.837, 0.86, 0.962, 0.982, 1.0]\n",
      "Recall values: [0.951, 0.851, 0.839, 0.758, 0.674, 0.604, 0.531, 0.453, 0.348, 0.273, 0.0]\n"
     ]
    },
    {
     "data": {
      "image/png": "[encoded data removed]",
      "text/plain": [
       "<Figure size 640x480 with 1 Axes>"
      ]
     },
     "metadata": {},
     "output_type": "display_data"
    }
   ],
   "source": [
    "def plot_data(csv_file_path):\n",
    "    # Read data from the CSV file\n",
    "    with open(csv_file_path, 'r') as file:\n",
    "        reader = csv.reader(file)\n",
    "        next(reader)  # Skip the header row\n",
    "        data = list(reader)\n",
    "    \n",
    "    # Debug: Print the extracted data\n",
    "    print(\"Extracted data from CSV:\")\n",
    "    for row in data:\n",
    "        print(f\"Precision: {row[0]}, Recall: {row[1]}\")\n",
    "    \n",
    "    # Extract precision and recall values\n",
    "    precision = [float(row[0]) for row in data]\n",
    "    recall = [float(row[1]) for row in data]\n",
    "    \n",
    "    # Debug: Print extracted precision and recall values\n",
    "    print(\"\\nPrecision values:\", precision)\n",
    "    print(\"Recall values:\", recall)\n",
    "    \n",
    "    # Plot precision-recall curve\n",
    "    plt.plot(recall, precision)\n",
    "    plt.xlabel('Recall')\n",
    "    plt.ylabel('Precision')\n",
    "    plt.title('Precision-Recall Curve')\n",
    "    plt.grid(True)\n",
    "    plt.show()\n",
    "\n",
    "# Example usage\n",
    "plot_data('data_file.csv')"
   ]
  },
  {
   "cell_type": "code",
   "execution_count": 12,
   "id": "b4d26548-80f5-4968-ac33-4e0ea5457a09",
   "metadata": {},
   "outputs": [
    {
     "data": {
      "image/png": "[encoded data removed]",
      "text/plain": [
       "<Figure size 640x480 with 1 Axes>"
      ]
     },
     "metadata": {},
     "output_type": "display_data"
    }
   ],
   "source": [
    "def plot_data(csv_file_path):\n",
    "    # Read data from the CSV file\n",
    "    with open(csv_file_path, 'r') as file:\n",
    "        reader = csv.reader(file)\n",
    "        next(reader)  # Skip the header row\n",
    "        data = list(reader)\n",
    "    \n",
    "    # Extract precision and recall values\n",
    "    precision = [float(row[0]) for row in data]\n",
    "    recall = [float(row[1]) for row in data]\n",
    "    \n",
    "    # Plot precision and recall values individually\n",
    "    plt.scatter(recall, precision, color='red', label='Data Points')\n",
    "    plt.xlabel('Recall')\n",
    "    plt.ylabel('Precision')\n",
    "    plt.title('Individual Data Points')\n",
    "    plt.grid(True)\n",
    "    plt.legend()\n",
    "    plt.show()\n",
    "\n",
    "# Example usage\n",
    "plot_data('data_file.csv')\n"
   ]
  },
  {
   "cell_type": "code",
   "execution_count": 13,
   "id": "4df64aff-0d9e-4c32-8ee7-f6f7d5c57181",
   "metadata": {},
   "outputs": [
    {
     "data": {
      "image/png": "[encoded data removed]",
      "text/plain": [
       "<Figure size 640x480 with 1 Axes>"
      ]
     },
     "metadata": {},
     "output_type": "display_data"
    }
   ],
   "source": [
    "def plot_data(csv_file_path):\n",
    "    # Read data from the CSV file\n",
    "    with open(csv_file_path, 'r') as file:\n",
    "        reader = csv.reader(file)\n",
    "        next(reader)  # Skip the header row\n",
    "        data = list(reader)\n",
    "    \n",
    "    # Extract precision and recall values\n",
    "    precision = [float(row[0]) for row in data]\n",
    "    recall = [float(row[1]) for row in data]\n",
    "    \n",
    "    # Plot precision-recall curve\n",
    "    plt.plot(recall, precision, marker='o', linestyle='-')\n",
    "    plt.xlabel('Recall')\n",
    "    plt.ylabel('Precision')\n",
    "    plt.title('Precision-Recall Curve')\n",
    "    plt.grid(True)\n",
    "    plt.show()\n",
    "\n",
    "# Example usage\n",
    "plot_data('data_file.csv')"
   ]
  },
  {
   "cell_type": "code",
   "execution_count": null,
   "id": "45f2365b-b000-4ad1-9eb6-ab6e741f44c2",
   "metadata": {},
   "outputs": [],
   "source": [
    "To address the issue and ensure that the precision-recall curve is plotted correctly, we can try the following steps:\n",
    "\n",
    "Sort Data Points: Sort the precision-recall data points based on the recall values before plotting. \n",
    "This ensures that the curve is plotted in ascending order of recall.\n",
    "\n",
    "Adjust Plotting Parameters: Experiment with different plotting parameters, such as line style, marker type, or plot range, \n",
    "to improve the visibility and accuracy of the plot."
   ]
  },
  {
   "cell_type": "code",
   "execution_count": null,
   "id": "b89bfaaa-952b-4cb0-82e2-d3c559447653",
   "metadata": {},
   "outputs": [],
   "source": [
    "We sort the data points based on the recall values before extracting precision and recall values.\n",
    "We adjust the plotting parameters, specifying markers for data points and a solid line for the curve."
   ]
  },
  {
   "cell_type": "code",
   "execution_count": 14,
   "id": "254aadf3-4c66-4d1b-b1d2-556a339cb049",
   "metadata": {},
   "outputs": [
    {
     "ename": "ModuleNotFoundError",
     "evalue": "No module named 'torch'",
     "output_type": "error",
     "traceback": [
      "\u001b[1;31m---------------------------------------------------------------------------\u001b[0m",
      "\u001b[1;31mModuleNotFoundError\u001b[0m                       Traceback (most recent call last)",
      "Cell \u001b[1;32mIn[14], line 1\u001b[0m\n\u001b[1;32m----> 1\u001b[0m \u001b[38;5;28;01mimport\u001b[39;00m \u001b[38;5;21;01mtorch\u001b[39;00m\n\u001b[0;32m      2\u001b[0m \u001b[38;5;28;01mimport\u001b[39;00m \u001b[38;5;21;01mtorch\u001b[39;00m\u001b[38;5;21;01m.\u001b[39;00m\u001b[38;5;21;01mnn\u001b[39;00m \u001b[38;5;28;01mas\u001b[39;00m \u001b[38;5;21;01mnn\u001b[39;00m\n\u001b[0;32m      3\u001b[0m \u001b[38;5;28;01mimport\u001b[39;00m \u001b[38;5;21;01mtorch\u001b[39;00m\u001b[38;5;21;01m.\u001b[39;00m\u001b[38;5;21;01moptim\u001b[39;00m \u001b[38;5;28;01mas\u001b[39;00m \u001b[38;5;21;01moptim\u001b[39;00m\n",
      "\u001b[1;31mModuleNotFoundError\u001b[0m: No module named 'torch'"
     ]
    }
   ],
   "source": [
    "import torch\n",
    "import torch.nn as nn\n",
    "import torch.optim as optim\n",
    "from torchvision import datasets, transforms\n",
    "from torch.utils.data import DataLoader"
   ]
  },
  {
   "cell_type": "code",
   "execution_count": 1,
   "id": "ce170183-adaa-4063-b094-6a08329d57dd",
   "metadata": {},
   "outputs": [],
   "source": [
    "import torch\n",
    "import torch.nn as nn\n",
    "import torch.optim as optim\n",
    "from torchvision import datasets, transforms\n",
    "from torch.utils.data import DataLoader"
   ]
  },
  {
   "cell_type": "code",
   "execution_count": null,
   "id": "202cae3d-381a-40fe-acc3-a60ea1430271",
   "metadata": {},
   "outputs": [],
   "source": [
    "Identify Structural Bug: Changing the batch size from 32 to 64 triggers a ValueError related to the \n",
    "size of input and target tensors during training.\n",
    "We need to fix this issue."
   ]
  },
  {
   "cell_type": "code",
   "execution_count": null,
   "id": "a3486c43-7564-4aa4-a3a3-02795e4fdbde",
   "metadata": {},
   "outputs": [],
   "source": [
    "The structural bug is triggered when changing the batch size from 32 to 64, resulting in a ValueError. \n",
    "This error suggests a mismatch between the size of input and target tensors.\n",
    "To debug and fix this issue, we need to review the data loading process, network architecture, and training loop. Specifically, \n",
    "we should ensure that the input and target tensors have compatible sizes throughout the training process, \n",
    "regardless of the batch size."
   ]
  },
  {
   "cell_type": "code",
   "execution_count": 2,
   "id": "8cdd5786-14fd-45bc-9cdb-9eaad893789d",
   "metadata": {},
   "outputs": [],
   "source": [
    "def train_gan(batch_size=32, num_epochs=100, device='cpu'):\n",
    "    # Set device\n",
    "    device = torch.device(device)\n",
    "\n",
    "    # Load MNIST dataset\n",
    "    transform = transforms.Compose([\n",
    "        transforms.ToTensor(),\n",
    "        transforms.Normalize((0.5,), (0.5,))\n",
    "    ])\n",
    "    train_dataset = datasets.MNIST(root='./data', train=True, transform=transform, download=True)\n",
    "    train_loader = torch.utils.data.DataLoader(dataset=train_dataset, batch_size=batch_size, shuffle=True)\n",
    "\n",
    "    # Initialize Generator and Discriminator\n",
    "    generator = Generator().to(device)\n",
    "    discriminator = Discriminator().to(device)\n",
    "\n",
    "    # Define loss function and optimizer\n",
    "    criterion = nn.BCELoss()\n",
    "    optimizer_G = optim.Adam(generator.parameters(), lr=0.0002, betas=(0.5, 0.999))\n",
    "    optimizer_D = optim.Adam(discriminator.parameters(), lr=0.0002, betas=(0.5, 0.999))\n",
    "\n",
    "    # Training loop\n",
    "    for epoch in range(num_epochs):\n",
    "        for i, (real_images, _) in enumerate(train_loader):\n",
    "            # Train Discriminator\n",
    "            optimizer_D.zero_grad()\n",
    "\n",
    "            # Generate fake images\n",
    "            z = torch.randn(batch_size, latent_dim, 1, 1).to(device)\n",
    "            fake_images = generator(z)\n",
    "\n",
    "            # Real images\n",
    "            real_images = real_images.to(device)\n",
    "            real_labels = torch.ones(batch_size, 1).to(device)\n",
    "\n",
    "            # Fake images\n",
    "            fake_labels = torch.zeros(batch_size, 1).to(device)\n",
    "\n",
    "            # Discriminator loss for real images\n",
    "            d_real_loss = criterion(discriminator(real_images), real_labels)\n",
    "            # Discriminator loss for fake images\n",
    "            d_fake_loss = criterion(discriminator(fake_images.detach()), fake_labels)\n",
    "\n",
    "            # Total Discriminator loss\n",
    "            d_loss = d_real_loss + d_fake_loss\n",
    "            d_loss.backward()\n",
    "            optimizer_D.step()\n",
    "\n",
    "            # Train Generator\n",
    "            optimizer_G.zero_grad()\n",
    "            z = torch.randn(batch_size, latent_dim, 1, 1).to(device)\n",
    "            fake_images = generator(z)\n",
    "            g_loss = criterion(discriminator(fake_images), real_labels)\n",
    "            g_loss.backward()\n",
    "            optimizer_G.step()\n",
    "\n",
    "        # Print progress\n",
    "        print(f'Epoch [{epoch + 1}/{num_epochs}], Discriminator Loss: {d_loss.item():.4f}, Generator Loss: {g_loss.item():.4f}')\n"
   ]
  },
  {
   "cell_type": "code",
   "execution_count": 3,
   "id": "6e2b5496-49e3-40ea-9aa6-69c7e6684c28",
   "metadata": {},
   "outputs": [
    {
     "ename": "IndentationError",
     "evalue": "unexpected indent (2623313846.py, line 3)",
     "output_type": "error",
     "traceback": [
      "\u001b[1;36m  Cell \u001b[1;32mIn[3], line 3\u001b[1;36m\u001b[0m\n\u001b[1;33m    print(f'Epoch [{epoch + 1}/{num_epochs}], Discriminator Loss: {d_loss.item():.4f}, Generator Loss: {g_loss.item():.4f}')\u001b[0m\n\u001b[1;37m    ^\u001b[0m\n\u001b[1;31mIndentationError\u001b[0m\u001b[1;31m:\u001b[0m unexpected indent\n"
     ]
    }
   ],
   "source": [
    "# Inside the training loop\n",
    "        # Print progress\n",
    "        print(f'Epoch [{epoch + 1}/{num_epochs}], Discriminator Loss: {d_loss.item():.4f}, Generator Loss: {g_loss.item():.4f}')\n"
   ]
  },
  {
   "cell_type": "code",
   "execution_count": 4,
   "id": "9896dacc-4d52-449f-abf1-8c1d0946249d",
   "metadata": {},
   "outputs": [
    {
     "ename": "NameError",
     "evalue": "name 'epoch' is not defined",
     "output_type": "error",
     "traceback": [
      "\u001b[1;31m---------------------------------------------------------------------------\u001b[0m",
      "\u001b[1;31mNameError\u001b[0m                                 Traceback (most recent call last)",
      "Cell \u001b[1;32mIn[4], line 3\u001b[0m\n\u001b[0;32m      1\u001b[0m \u001b[38;5;66;03m# Inside the training loop\u001b[39;00m\n\u001b[0;32m      2\u001b[0m \u001b[38;5;66;03m# Print progress\u001b[39;00m\n\u001b[1;32m----> 3\u001b[0m \u001b[38;5;28mprint\u001b[39m(\u001b[38;5;124mf\u001b[39m\u001b[38;5;124m'\u001b[39m\u001b[38;5;124mEpoch [\u001b[39m\u001b[38;5;132;01m{\u001b[39;00mepoch\u001b[38;5;250m \u001b[39m\u001b[38;5;241m+\u001b[39m\u001b[38;5;250m \u001b[39m\u001b[38;5;241m1\u001b[39m\u001b[38;5;132;01m}\u001b[39;00m\u001b[38;5;124m/\u001b[39m\u001b[38;5;132;01m{\u001b[39;00mnum_epochs\u001b[38;5;132;01m}\u001b[39;00m\u001b[38;5;124m], Discriminator Loss: \u001b[39m\u001b[38;5;132;01m{\u001b[39;00md_loss\u001b[38;5;241m.\u001b[39mitem()\u001b[38;5;132;01m:\u001b[39;00m\u001b[38;5;124m.4f\u001b[39m\u001b[38;5;132;01m}\u001b[39;00m\u001b[38;5;124m, Generator Loss: \u001b[39m\u001b[38;5;132;01m{\u001b[39;00mg_loss\u001b[38;5;241m.\u001b[39mitem()\u001b[38;5;132;01m:\u001b[39;00m\u001b[38;5;124m.4f\u001b[39m\u001b[38;5;132;01m}\u001b[39;00m\u001b[38;5;124m'\u001b[39m)\n",
      "\u001b[1;31mNameError\u001b[0m: name 'epoch' is not defined"
     ]
    }
   ],
   "source": [
    "# Inside the training loop\n",
    "# Print progress\n",
    "print(f'Epoch [{epoch + 1}/{num_epochs}], Discriminator Loss: {d_loss.item():.4f}, Generator Loss: {g_loss.item():.4f}')\n"
   ]
  },
  {
   "cell_type": "code",
   "execution_count": null,
   "id": "46333e87-2f11-4ee8-9e02-873c04ad405c",
   "metadata": {},
   "outputs": [],
   "source": []
  }
 ],
 "metadata": {
  "kernelspec": {
   "display_name": "Python 3 (ipykernel)",
   "language": "python",
   "name": "python3"
  },
  "language_info": {
   "codemirror_mode": {
    "name": "ipython",
    "version": 3
   },
   "file_extension": ".py",
   "mimetype": "text/x-python",
   "name": "python",
   "nbconvert_exporter": "python",
   "pygments_lexer": "ipython3",
   "version": "3.8.18"
  }
 },
 "nbformat": 4,
 "nbformat_minor": 5
}
